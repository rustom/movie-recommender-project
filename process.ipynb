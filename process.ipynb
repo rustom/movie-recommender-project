{
 "cells": [
  {
   "cell_type": "markdown",
   "metadata": {},
   "source": [
    "# Project 4: Movie Recommendation System\n",
    "\n",
    "Name: Rustom Ichhaporia\n",
    "\n",
    "netID: rustomi2"
   ]
  },
  {
   "cell_type": "code",
   "execution_count": 1,
   "metadata": {},
   "outputs": [],
   "source": [
    "import pandas as pd\n",
    "import numpy as np\n",
    "from scipy.stats import norm\n",
    "\n",
    "ratings = pd.read_csv('data/ratings.dat', sep='::', engine = 'python', header=None)\n",
    "ratings.columns = ['UserID', 'MovieID', 'Rating', 'Timestamp']\n",
    "movies = pd.read_csv('data/movies.dat', sep='::', engine = 'python',\n",
    "                     encoding=\"ISO-8859-1\", header = None)\n",
    "movies.columns = ['MovieID', 'Title', 'Genres']"
   ]
  },
  {
   "cell_type": "markdown",
   "metadata": {},
   "source": [
    "## System I\n",
    "\n",
    "For System I, I will implement a Bayesian approach to the recommendation problem. Rather than taking the plain average rating for each movie in the desired genre, I will add a Bayesian term to the computation of the average, so that movies with very few ratings will be pulled towards the overall average rating for the genre. The Bayesian term will be a weighted average of the overall average rating for the genre and the overall average rating for all movies. The weight will be the number of ratings for the movie divided by the number of ratings for all movies in the genre. We begin by assuming every movie already has W ratings with an average of R score, and then add the real data to those numbers and recompute the average. I have chosen to set W=10 and R=3.5 based on the distribution of the data. "
   ]
  },
  {
   "cell_type": "code",
   "execution_count": 2,
   "metadata": {},
   "outputs": [],
   "source": [
    "# Make genre map of genre to movie id\n",
    "genre_map = {}\n",
    "for index, row in movies.iterrows():\n",
    "    genres = row['Genres'].split('|')\n",
    "    for genre in genres:\n",
    "        if genre not in genre_map:\n",
    "            genre_map[genre] = []\n",
    "        genre_map[genre].append(row['MovieID'])\n",
    "\n",
    "# Convert genre column to one-hot encoding\n",
    "for genre in genre_map:\n",
    "    movies[genre] = movies['MovieID'].apply(lambda x: 1 if x in genre_map[genre] else 0)"
   ]
  },
  {
   "cell_type": "code",
   "execution_count": 3,
   "metadata": {},
   "outputs": [],
   "source": [
    "def get_recommendations_simple(genre, num_results=10): \n",
    "    W, R = 10.0, 3.5\n",
    "    movieIDs = genre_map[genre]\n",
    "    ratings_subset = ratings[ratings['MovieID'].isin(movieIDs)]\n",
    "    # Recompute movie's average rating with W and R Bayesian smoothing\n",
    "    ratings_subset = (ratings_subset.groupby('MovieID').sum() + (W * R)) / (ratings_subset.groupby('MovieID').count() + W)\n",
    "    ratings_subset = ratings_subset.sort_values(by='Rating', ascending=False)\n",
    "    return ratings_subset.head(num_results)"
   ]
  },
  {
   "cell_type": "code",
   "execution_count": 4,
   "metadata": {},
   "outputs": [],
   "source": [
    "genre_recommendations = pd.DataFrame()\n",
    "for genre in genre_map:\n",
    "    # add the top 10 recommendations for each genre to a dataframe with column as genre and row as recommendation\n",
    "    genre_recommendations[genre] = get_recommendations_simple(genre)['Rating'].index\n",
    "\n",
    "genre_recommendations.to_pickle('genre_recommendations.pkl')"
   ]
  },
  {
   "cell_type": "code",
   "execution_count": 5,
   "metadata": {},
   "outputs": [
    {
     "data": {
      "text/html": [
       "<div>\n",
       "<style scoped>\n",
       "    .dataframe tbody tr th:only-of-type {\n",
       "        vertical-align: middle;\n",
       "    }\n",
       "\n",
       "    .dataframe tbody tr th {\n",
       "        vertical-align: top;\n",
       "    }\n",
       "\n",
       "    .dataframe thead th {\n",
       "        text-align: right;\n",
       "    }\n",
       "</style>\n",
       "<table border=\"1\" class=\"dataframe\">\n",
       "  <thead>\n",
       "    <tr style=\"text-align: right;\">\n",
       "      <th></th>\n",
       "      <th>UserID</th>\n",
       "      <th>Rating</th>\n",
       "      <th>Timestamp</th>\n",
       "    </tr>\n",
       "    <tr>\n",
       "      <th>MovieID</th>\n",
       "      <th></th>\n",
       "      <th></th>\n",
       "      <th></th>\n",
       "    </tr>\n",
       "  </thead>\n",
       "  <tbody>\n",
       "    <tr>\n",
       "      <th>922</th>\n",
       "      <td>3016.427083</td>\n",
       "      <td>4.470833</td>\n",
       "      <td>9.523501e+08</td>\n",
       "    </tr>\n",
       "    <tr>\n",
       "      <th>3435</th>\n",
       "      <td>2994.156863</td>\n",
       "      <td>4.399287</td>\n",
       "      <td>9.548696e+08</td>\n",
       "    </tr>\n",
       "    <tr>\n",
       "      <th>913</th>\n",
       "      <td>3183.615385</td>\n",
       "      <td>4.387464</td>\n",
       "      <td>9.618338e+08</td>\n",
       "    </tr>\n",
       "    <tr>\n",
       "      <th>1252</th>\n",
       "      <td>3130.421757</td>\n",
       "      <td>4.332218</td>\n",
       "      <td>9.628930e+08</td>\n",
       "    </tr>\n",
       "    <tr>\n",
       "      <th>1267</th>\n",
       "      <td>3128.656774</td>\n",
       "      <td>4.322581</td>\n",
       "      <td>9.595338e+08</td>\n",
       "    </tr>\n",
       "    <tr>\n",
       "      <th>1284</th>\n",
       "      <td>2979.350272</td>\n",
       "      <td>4.297641</td>\n",
       "      <td>9.537593e+08</td>\n",
       "    </tr>\n",
       "    <tr>\n",
       "      <th>2186</th>\n",
       "      <td>3045.380081</td>\n",
       "      <td>4.288618</td>\n",
       "      <td>9.517622e+08</td>\n",
       "    </tr>\n",
       "    <tr>\n",
       "      <th>930</th>\n",
       "      <td>3021.916484</td>\n",
       "      <td>4.276923</td>\n",
       "      <td>9.512760e+08</td>\n",
       "    </tr>\n",
       "    <tr>\n",
       "      <th>1260</th>\n",
       "      <td>3050.069182</td>\n",
       "      <td>4.276730</td>\n",
       "      <td>9.412593e+08</td>\n",
       "    </tr>\n",
       "    <tr>\n",
       "      <th>541</th>\n",
       "      <td>3108.017127</td>\n",
       "      <td>4.269061</td>\n",
       "      <td>9.656335e+08</td>\n",
       "    </tr>\n",
       "  </tbody>\n",
       "</table>\n",
       "</div>"
      ],
      "text/plain": [
       "              UserID    Rating     Timestamp\n",
       "MovieID                                     \n",
       "922      3016.427083  4.470833  9.523501e+08\n",
       "3435     2994.156863  4.399287  9.548696e+08\n",
       "913      3183.615385  4.387464  9.618338e+08\n",
       "1252     3130.421757  4.332218  9.628930e+08\n",
       "1267     3128.656774  4.322581  9.595338e+08\n",
       "1284     2979.350272  4.297641  9.537593e+08\n",
       "2186     3045.380081  4.288618  9.517622e+08\n",
       "930      3021.916484  4.276923  9.512760e+08\n",
       "1260     3050.069182  4.276730  9.412593e+08\n",
       "541      3108.017127  4.269061  9.656335e+08"
      ]
     },
     "execution_count": 5,
     "metadata": {},
     "output_type": "execute_result"
    }
   ],
   "source": [
    "get_recommendations_simple('Film-Noir')"
   ]
  },
  {
   "cell_type": "markdown",
   "metadata": {},
   "source": [
    "## System II"
   ]
  },
  {
   "cell_type": "code",
   "execution_count": 6,
   "metadata": {},
   "outputs": [],
   "source": [
    "R = pd.read_csv('data/R_matrix.csv')\n",
    "R_orig = R.copy()\n",
    "R = R.sub(R.mean(axis=1, skipna=True), axis=0)\n",
    "R = R.to_numpy()\n",
    "S = np.zeros((R.shape[1], R.shape[1]))\n",
    "S.fill(np.nan)"
   ]
  },
  {
   "cell_type": "markdown",
   "metadata": {},
   "source": [
    "First we create the initial similarities matrix as described in the instructions. This is the symmetric version. "
   ]
  },
  {
   "cell_type": "code",
   "execution_count": 7,
   "metadata": {},
   "outputs": [
    {
     "data": {
      "text/html": [
       "<div>\n",
       "<style scoped>\n",
       "    .dataframe tbody tr th:only-of-type {\n",
       "        vertical-align: middle;\n",
       "    }\n",
       "\n",
       "    .dataframe tbody tr th {\n",
       "        vertical-align: top;\n",
       "    }\n",
       "\n",
       "    .dataframe thead th {\n",
       "        text-align: right;\n",
       "    }\n",
       "</style>\n",
       "<table border=\"1\" class=\"dataframe\">\n",
       "  <thead>\n",
       "    <tr style=\"text-align: right;\">\n",
       "      <th></th>\n",
       "      <th>m1</th>\n",
       "      <th>m10</th>\n",
       "      <th>m100</th>\n",
       "      <th>m1510</th>\n",
       "      <th>m260</th>\n",
       "      <th>m3212</th>\n",
       "    </tr>\n",
       "  </thead>\n",
       "  <tbody>\n",
       "    <tr>\n",
       "      <th>m1</th>\n",
       "      <td>NaN</td>\n",
       "      <td>0.512105</td>\n",
       "      <td>0.392000</td>\n",
       "      <td>NaN</td>\n",
       "      <td>0.741148</td>\n",
       "      <td>NaN</td>\n",
       "    </tr>\n",
       "    <tr>\n",
       "      <th>m10</th>\n",
       "      <td>0.512105</td>\n",
       "      <td>NaN</td>\n",
       "      <td>0.547458</td>\n",
       "      <td>NaN</td>\n",
       "      <td>0.534334</td>\n",
       "      <td>NaN</td>\n",
       "    </tr>\n",
       "    <tr>\n",
       "      <th>m100</th>\n",
       "      <td>0.392000</td>\n",
       "      <td>0.547458</td>\n",
       "      <td>NaN</td>\n",
       "      <td>NaN</td>\n",
       "      <td>0.329694</td>\n",
       "      <td>NaN</td>\n",
       "    </tr>\n",
       "    <tr>\n",
       "      <th>m1510</th>\n",
       "      <td>NaN</td>\n",
       "      <td>NaN</td>\n",
       "      <td>NaN</td>\n",
       "      <td>NaN</td>\n",
       "      <td>NaN</td>\n",
       "      <td>NaN</td>\n",
       "    </tr>\n",
       "    <tr>\n",
       "      <th>m260</th>\n",
       "      <td>0.741148</td>\n",
       "      <td>0.534334</td>\n",
       "      <td>0.329694</td>\n",
       "      <td>NaN</td>\n",
       "      <td>NaN</td>\n",
       "      <td>NaN</td>\n",
       "    </tr>\n",
       "    <tr>\n",
       "      <th>m3212</th>\n",
       "      <td>NaN</td>\n",
       "      <td>NaN</td>\n",
       "      <td>NaN</td>\n",
       "      <td>NaN</td>\n",
       "      <td>NaN</td>\n",
       "      <td>NaN</td>\n",
       "    </tr>\n",
       "  </tbody>\n",
       "</table>\n",
       "</div>"
      ],
      "text/plain": [
       "             m1       m10      m100  m1510      m260  m3212\n",
       "m1          NaN  0.512105  0.392000    NaN  0.741148    NaN\n",
       "m10    0.512105       NaN  0.547458    NaN  0.534334    NaN\n",
       "m100   0.392000  0.547458       NaN    NaN  0.329694    NaN\n",
       "m1510       NaN       NaN       NaN    NaN       NaN    NaN\n",
       "m260   0.741148  0.534334  0.329694    NaN       NaN    NaN\n",
       "m3212       NaN       NaN       NaN    NaN       NaN    NaN"
      ]
     },
     "execution_count": 7,
     "metadata": {},
     "output_type": "execute_result"
    }
   ],
   "source": [
    "for row in range(S.shape[0]):\n",
    "    for col in range(row + 1, S.shape[0]):\n",
    "        overlap = np.where(~(np.isnan(R[:, row]) | np.isnan(R[:, col])))[0]\n",
    "\n",
    "        if len(overlap) < 3:\n",
    "            continue\n",
    "\n",
    "        total = np.sum(R[:, row][overlap] * R[:, col][overlap])\n",
    "        divisor = np.linalg.norm(R[:, row][overlap], ord=2) * np.linalg.norm(R[:, col][overlap], ord=2)\n",
    "        \n",
    "        score = 0.5 + (0.5 * (total / divisor))\n",
    "        S[row, col] = score\n",
    "        S[col, row] = score\n",
    "\n",
    "similarities = pd.DataFrame(S, index=R_orig.columns, columns=R_orig.columns)\n",
    "\n",
    "sample = ['m1', 'm10', 'm100', 'm1510', 'm260', 'm3212']\n",
    "similarities_test = similarities.loc[sample, sample]\n",
    "similarities_test = np.round(similarities_test, 7)\n",
    "\n",
    "similarities_test"
   ]
  },
  {
   "cell_type": "markdown",
   "metadata": {},
   "source": [
    "Next, we create the non-symmetric, reduced version of S. We also define a list of the top 20 movies using the Bayesian approach from System I. These are the substitute movies that are used if there are insufficient results in the myIBCF function."
   ]
  },
  {
   "cell_type": "code",
   "execution_count": 19,
   "metadata": {},
   "outputs": [],
   "source": [
    "reduced = S.copy()\n",
    "\n",
    "for row in range(S.shape[0]):\n",
    "    empty_count = np.isnan(reduced[row]).sum()\n",
    "    reduced[row][np.argsort(reduced[row])[:-empty_count - 30]] = np.nan\n",
    "\n",
    "S_reduced = pd.DataFrame(reduced, index=R_orig.columns, columns=R_orig.columns)\n",
    "\n",
    "substitutes = pd.Series(np.zeros(S.shape[0]), index=R_orig.columns).rename(\"Bayesian_Rating\")\n",
    "\n",
    "for movie in R_orig.columns:\n",
    "    ratings_subset = R_orig[movie]\n",
    "    W, R = 10.0, 3.5\n",
    "    bayesian_rating = (ratings_subset.sum() + (W * R)) / (ratings_subset.count() + W)\n",
    "    substitutes[movie] = bayesian_rating\n",
    "        \n",
    "bayesian_substitutes = substitutes.sort_values(ascending=False)[:20]"
   ]
  },
  {
   "cell_type": "code",
   "execution_count": 20,
   "metadata": {},
   "outputs": [],
   "source": [
    "def myIBCF(newuser):\n",
    "    rating_indices = np.argwhere(~np.isnan(newuser))\n",
    "\n",
    "    output = S_reduced.iloc[:, 0] * np.NaN\n",
    "\n",
    "    for i in range(R_orig.shape[1]):\n",
    "        movie = S_reduced.iloc[i]\n",
    "        neighbors = np.argwhere(~np.isnan(movie).to_numpy())\n",
    "        neighbors_vals = np.intersect1d(rating_indices, neighbors)\n",
    "\n",
    "        if not len(neighbors_vals):\n",
    "            continue\n",
    "\n",
    "        output[i] = np.sum(movie[neighbors_vals] * newuser[neighbors_vals]) / np.sum(movie[neighbors_vals])\n",
    "\n",
    "    output = output[np.isnan(newuser) & (np.abs(output - 0.1) > 0.0001)]\n",
    "    output = list(output.sort_values(ascending=False).index)\n",
    "\n",
    "    # Add Bayesian results if not enough results\n",
    "    while len(output) < 10:\n",
    "        for movie in bayesian_substitutes:\n",
    "            if movie not in output:\n",
    "                output.append(movie)\n",
    "\n",
    "    return output[:10]"
   ]
  },
  {
   "cell_type": "code",
   "execution_count": 21,
   "metadata": {},
   "outputs": [
    {
     "data": {
      "text/plain": [
       "m1       3.0\n",
       "m10      4.0\n",
       "m100     NaN\n",
       "m1000    NaN\n",
       "m1002    NaN\n",
       "        ... \n",
       "m994     4.0\n",
       "m996     2.0\n",
       "m997     3.0\n",
       "m998     NaN\n",
       "m999     2.0\n",
       "Name: u1181, Length: 3706, dtype: float64"
      ]
     },
     "execution_count": 21,
     "metadata": {},
     "output_type": "execute_result"
    }
   ],
   "source": [
    "R_orig.loc['u1181']"
   ]
  },
  {
   "cell_type": "code",
   "execution_count": 22,
   "metadata": {},
   "outputs": [
    {
     "data": {
      "text/plain": [
       "['m3732',\n",
       " 'm749',\n",
       " 'm3899',\n",
       " 'm427',\n",
       " 'm1039',\n",
       " 'm3752',\n",
       " 'm3789',\n",
       " 'm1734',\n",
       " 'm2793',\n",
       " 'm504']"
      ]
     },
     "execution_count": 22,
     "metadata": {},
     "output_type": "execute_result"
    }
   ],
   "source": [
    "myIBCF(R_orig.loc[\"u1181\"].to_numpy())"
   ]
  },
  {
   "cell_type": "code",
   "execution_count": 12,
   "metadata": {},
   "outputs": [
    {
     "data": {
      "text/plain": [
       "['m853',\n",
       " 'm1780',\n",
       " 'm2127',\n",
       " 'm1871',\n",
       " 'm2061',\n",
       " 'm1514',\n",
       " 'm1901',\n",
       " 'm985',\n",
       " 'm3012',\n",
       " 'm1659']"
      ]
     },
     "execution_count": 12,
     "metadata": {},
     "output_type": "execute_result"
    }
   ],
   "source": [
    "myIBCF(R_orig.loc[\"u1351\"].to_numpy())"
   ]
  },
  {
   "cell_type": "code",
   "execution_count": 23,
   "metadata": {},
   "outputs": [
    {
     "data": {
      "text/plain": [
       "['m1017',\n",
       " 'm765',\n",
       " 'm74',\n",
       " 'm3269',\n",
       " 'm2846',\n",
       " 'm340',\n",
       " 'm338',\n",
       " 'm3258',\n",
       " 'm3254',\n",
       " 'm316']"
      ]
     },
     "execution_count": 23,
     "metadata": {},
     "output_type": "execute_result"
    }
   ],
   "source": [
    "hypothetical_user = S_reduced.iloc[0].copy()\n",
    "hypothetical_user[:] = np.nan\n",
    "hypothetical_user[\"m1613\"] = 5\n",
    "hypothetical_user[\"m1755\"] = 4\n",
    "\n",
    "myIBCF(hypothetical_user.to_numpy())"
   ]
  },
  {
   "cell_type": "code",
   "execution_count": 14,
   "metadata": {},
   "outputs": [],
   "source": [
    "S_reduced.to_pickle('S_reduced.pkl')"
   ]
  },
  {
   "cell_type": "code",
   "execution_count": 15,
   "metadata": {},
   "outputs": [],
   "source": [
    "bayesian_substitutes.to_pickle('bayesian_substitutes.pkl')"
   ]
  }
 ],
 "metadata": {
  "kernelspec": {
   "display_name": "base",
   "language": "python",
   "name": "python3"
  },
  "language_info": {
   "codemirror_mode": {
    "name": "ipython",
    "version": 3
   },
   "file_extension": ".py",
   "mimetype": "text/x-python",
   "name": "python",
   "nbconvert_exporter": "python",
   "pygments_lexer": "ipython3",
   "version": "3.9.13"
  }
 },
 "nbformat": 4,
 "nbformat_minor": 2
}
